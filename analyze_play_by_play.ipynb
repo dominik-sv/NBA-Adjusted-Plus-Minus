{
 "cells": [
  {
   "cell_type": "code",
   "execution_count": 45,
   "id": "05a89b55",
   "metadata": {},
   "outputs": [],
   "source": [
    "import pandas as pd\n",
    "import os"
   ]
  },
  {
   "cell_type": "code",
   "execution_count": 46,
   "id": "9f955d09",
   "metadata": {},
   "outputs": [
    {
     "name": "stdout",
     "output_type": "stream",
     "text": [
      "file 4 skipped\n",
      "file 18 skipped\n",
      "file 19 skipped\n",
      "file 20 skipped\n"
     ]
    }
   ],
   "source": [
    "directory = 'plays'\n",
    "plays_agg = []\n",
    "for i in range(29):\n",
    "    file_name = f'plays_{i}.csv'\n",
    "    path = os.path.join(directory, file_name)\n",
    "    try:\n",
    "        plays = pd.read_csv(path)\n",
    "    except FileNotFoundError:\n",
    "        print(f'file {i} skipped')\n",
    "        continue\n",
    "    plays_agg.append(plays)"
   ]
  },
  {
   "cell_type": "code",
   "execution_count": 47,
   "id": "c4371ddb",
   "metadata": {},
   "outputs": [],
   "source": [
    "comb_plays = pd.concat(plays_agg)"
   ]
  },
  {
   "cell_type": "code",
   "execution_count": 48,
   "id": "2b72a878",
   "metadata": {},
   "outputs": [
    {
     "data": {
      "text/plain": [
       "array(['Shooting', 'Personal', 'Offensive Charge', 'Defense 3 Second',\n",
       "       'Loose Ball', 'Offensive', 'Personal Take', 'Double Personal',\n",
       "       'Transition Take', 'Technical', 'Flagrant Type 2',\n",
       "       'Double Technical', 'Away From Play', 'Flagrant Type 1'],\n",
       "      dtype=object)"
      ]
     },
     "execution_count": 48,
     "metadata": {},
     "output_type": "execute_result"
    }
   ],
   "source": [
    "comb_plays[comb_plays['actionType'] == 'Foul']['subType'].unique()"
   ]
  },
  {
   "cell_type": "code",
   "execution_count": null,
   "id": "a870999b",
   "metadata": {},
   "outputs": [],
   "source": []
  }
 ],
 "metadata": {
  "kernelspec": {
   "display_name": "venv",
   "language": "python",
   "name": "python3"
  },
  "language_info": {
   "codemirror_mode": {
    "name": "ipython",
    "version": 3
   },
   "file_extension": ".py",
   "mimetype": "text/x-python",
   "name": "python",
   "nbconvert_exporter": "python",
   "pygments_lexer": "ipython3",
   "version": "3.11.9"
  }
 },
 "nbformat": 4,
 "nbformat_minor": 5
}
